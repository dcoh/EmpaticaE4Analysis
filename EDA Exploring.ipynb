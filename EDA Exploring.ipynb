{
 "cells": [
  {
   "cell_type": "code",
   "execution_count": 515,
   "metadata": {},
   "outputs": [],
   "source": [
    "## Should have all the same signal processing functions from the signal package in R:\n",
    "## https://cran.r-project.org/web/packages/signal/signal.pdf\n",
    "from scipy.signal import butter, lfilter\n",
    "\n",
    "## https://docs.scipy.org/doc/scipy/reference/signal.html\n",
    "\n",
    "import pandas as pd\n",
    "import numpy as np\n",
    "import csv\n",
    "import glob\n",
    "import matplotlib.pyplot as plt\n",
    "import datetime"
   ]
  },
  {
   "cell_type": "markdown",
   "metadata": {},
   "source": [
    "Output to a mapped dropbox folder: /Users/dancohen/Dropbox/E4 stuff/test data/EDA_Test_Data_Analysis"
   ]
  },
  {
   "cell_type": "code",
   "execution_count": 498,
   "metadata": {
    "collapsed": true
   },
   "outputs": [],
   "source": [
    "output_path = r'/Users/dancohen/Dropbox/E4 stuff/test data/EDA_Test_Data_Analysis'"
   ]
  },
  {
   "cell_type": "markdown",
   "metadata": {},
   "source": [
    "Define helper functions to convert from the unix timestamp to UTC and to add time to an input date based on a sample rate (will be 4hz for this code)"
   ]
  },
  {
   "cell_type": "code",
   "execution_count": 514,
   "metadata": {},
   "outputs": [],
   "source": [
    "def get_utc_date_time(ts):\n",
    "    return datetime.datetime.fromtimestamp(ts)\n",
    "#.strftime('%H:%M:%S:%f')\n",
    "\n",
    "def add_fs(sample_rate, date):\n",
    "    return date + datetime.timedelta(milliseconds=1.0/(sample_rate) * 1000.0)"
   ]
  },
  {
   "cell_type": "markdown",
   "metadata": {},
   "source": [
    "Found some code on stack overflow and in SciPy's community website that implements a band pass butterworth filter for a 1d array: https://scipy-cookbook.readthedocs.io/items/ButterworthBandpass.html#.  I dont know what order filter we need for this data, but for exploratory data analysis, it appears to work ok"
   ]
  },
  {
   "cell_type": "code",
   "execution_count": 501,
   "metadata": {},
   "outputs": [],
   "source": [
    "def butter_bandpass(lowcut, highcut, fs, order=5):\n",
    "    nyq = 0.5 * fs\n",
    "    low = lowcut / nyq\n",
    "    high = highcut / nyq\n",
    "    b, a = butter(order, [low, high], btype='band')\n",
    "    return b, a\n",
    "\n",
    "## May need to better understand which order filter is needed for this dataset\n",
    "def butter_bandpass_filter(data, lowcut, highcut, fs, column_name, order=5):\n",
    "    b, a = butter_bandpass(lowcut, highcut, fs, order=order)\n",
    "    y = lfilter(b, a, data)\n",
    "    y = pd.DataFrame(y, columns=[column_name])\n",
    "    return y"
   ]
  },
  {
   "cell_type": "markdown",
   "metadata": {},
   "source": [
    "Take all the CSV files in the test data folder and concatenate them together.\n",
    "\n",
    "For this exploratory analysis, we would like to plot against timepoints.  The data supplied for each EDA is in 1 column (including the original timestamp), so we must transpose the data frame so that each column becomes 1 row in the eventual dataset.  \n",
    "\n",
    "Ie, 1 column with 8k rows becomes 8k columns (representing timepoints) with 1 row (representing the entire run)"
   ]
  },
  {
   "cell_type": "code",
   "execution_count": 503,
   "metadata": {
    "collapsed": true
   },
   "outputs": [],
   "source": [
    "file_path = r'/Users/dancohen/Code_Projects/Empatica E4 Analysis/EDA_Test_data'\n",
    "all_files = glob.glob(file_path + \"/*.csv\")"
   ]
  },
  {
   "cell_type": "code",
   "execution_count": 504,
   "metadata": {
    "collapsed": true
   },
   "outputs": [],
   "source": [
    "fs = 4.0 ## Sampling frequency.  This test data was gathered at 4hz\n",
    "lowcut = 0.05 ## Lower bound for the filter, as directed by Empatica documentation\n",
    "highcut = 1.0  ## Upper bound for the filter, as directed by Empatica documentation"
   ]
  },
  {
   "cell_type": "code",
   "execution_count": 513,
   "metadata": {},
   "outputs": [],
   "source": [
    "unfiltered_EDA = []\n",
    "filtered_EDA = []\n",
    "\n",
    "for file_path in all_files:\n",
    "    datetime_range = []\n",
    "    \n",
    "    path = file_path.split('/')\n",
    "    \n",
    "    #Grabs the 3 digit pariticipant code in the test file names (I added these manually to the file names)\n",
    "    csv = path[len(path)-1]\n",
    "    file_code = csv[5:7]\n",
    "\n",
    "    df = pd.read_csv(file_path)\n",
    "    # For this test data, we dont care about the first row, which is the timestamp. \n",
    "    # NOTE: The sampling rate of 4hz is found in the second row of each csv file, so we just drop that row as well\n",
    "    # https://support.empatica.com/hc/en-us/articles/201608896-Data-export-and-formatting-from-E4-connect-\n",
    "    \n",
    "    df = df.drop(df.index[0:2])\n",
    "   \n",
    "    # Generate list of date times, iterated upwards by 1/sampling frequency (1/4 in this case)\n",
    "    # Once list is generated, add as a new column to the dataframe\n",
    "\n",
    "    date = get_utc_date_time(float(df.columns[0])) #The original t0 timestamp is the column header name\n",
    "    datetime_range.append(date.strftime('%H:%M:%S:%f'))\n",
    "    next_date = date\n",
    "    \n",
    "    for count in range(len(df)-1):\n",
    "        next_date = add_fs(4, next_date)\n",
    "        datetime_range.append(next_date.strftime('%H:%M:%S:%f'))\n",
    "    \n",
    "    # Once we're done with creating a timestamp list, just rename the column containing the \n",
    "    # data to the participant ID\n",
    "    df = df.rename(columns={df.columns[0]: file_code})\n",
    "    \n",
    "    #Output files with timestamps (based on t0 - first line in file) for filtered data\n",
    "    filtered_entry = butter_bandpass_filter(df[file_code], lowcut, highcut, fs, file_code)\n",
    "    filtered_entry['Time Stamp'] = datetime_range\n",
    "    unfiltered_entry = df\n",
    "    unfiltered_entry['Time Stamp'] = datetime_range\n",
    "    \n",
    "    #Uncomment these lines to show filtered plots across timestamps\n",
    "    #filtered_entry.plot(x='Time Stamp', y=file_code)\n",
    "    #unfiltered_entry.plot(x='Time Stamp', y=file_code)\n",
    "    #plt.show()\n",
    "    \n",
    "    filtered_entry.to_csv(output_path+'/filteredEDA{}_timestamped.csv'.format(file_code))\n",
    "    \n",
    "    unfiltered_EDA.append(df.transpose())\n",
    "    filtered_EDA.append(butter_bandpass_filter(df[file_code], lowcut, highcut, fs, file_code).transpose())\n",
    "    \n",
    "unfiltered_frame = pd.concat(unfiltered_EDA)\n",
    "filtered_frame = pd.concat(filtered_EDA)"
   ]
  },
  {
   "cell_type": "markdown",
   "metadata": {},
   "source": [
    "We are transposing the entire dataframe back into 4 columns and ~8k rows just to make doing simple graphs easier.  Turns out that using matplotlib's plot.show() by default looks at each column as a line in the plot"
   ]
  },
  {
   "cell_type": "code",
   "execution_count": 506,
   "metadata": {},
   "outputs": [],
   "source": [
    "filtered_frame = filtered_frame.transpose()\n",
    "unfiltered_frame = unfiltered_frame.transpose()"
   ]
  },
  {
   "cell_type": "code",
   "execution_count": 508,
   "metadata": {},
   "outputs": [
    {
     "data": {
      "image/png": "[encoded data removed]",
      "text/plain": [
       "<matplotlib.figure.Figure at 0x14b497518>"
      ]
     },
     "metadata": {},
     "output_type": "display_data"
    }
   ],
   "source": [
    "filtered_frame['12'].plot()\n",
    "unfiltered_frame['12'].plot()\n",
    "plt.show()"
   ]
  },
  {
   "cell_type": "code",
   "execution_count": 509,
   "metadata": {},
   "outputs": [],
   "source": [
    "filtered_frame.to_csv(output_path+'/filteredEDA.csv')\n",
    "unfiltered_frame.to_csv(output_path+'/unfilteredEDA.csv')"
   ]
  },
  {
   "cell_type": "code",
   "execution_count": null,
   "metadata": {
    "collapsed": true
   },
   "outputs": [],
   "source": []
  }
 ],
 "metadata": {
  "kernelspec": {
   "display_name": "Python 3",
   "language": "python",
   "name": "python3"
  },
  "language_info": {
   "codemirror_mode": {
    "name": "ipython",
    "version": 3
   },
   "file_extension": ".py",
   "mimetype": "text/x-python",
   "name": "python",
   "nbconvert_exporter": "python",
   "pygments_lexer": "ipython3",
   "version": "3.6.1"
  }
 },
 "nbformat": 4,
 "nbformat_minor": 2
}
