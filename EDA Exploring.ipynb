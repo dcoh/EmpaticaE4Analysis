{
 "cells": [
  {
   "cell_type": "code",
   "execution_count": 189,
   "metadata": {},
   "outputs": [],
   "source": [
    "## Should have all the same signal processing functions from the signal package in R:\n",
    "## https://cran.r-project.org/web/packages/signal/signal.pdf\n",
    "from scipy.signal import butter, lfilter\n",
    "\n",
    "## https://docs.scipy.org/doc/scipy/reference/signal.html\n",
    "\n",
    "import pandas as pd\n",
    "import numpy as np\n",
    "import csv\n",
    "import glob\n",
    "import json\n",
    "import re\n",
    "import matplotlib.pyplot as plt\n",
    "from datetime import datetime"
   ]
  },
  {
   "cell_type": "markdown",
   "metadata": {},
   "source": [
    "Define a helper function to convert from the unix timestamp to UTC:"
   ]
  },
  {
   "cell_type": "code",
   "execution_count": 200,
   "metadata": {
    "collapsed": true
   },
   "outputs": [],
   "source": [
    "def get_utc_date_time(ts):\n",
    "    return datetime.utcfromtimestamp(ts).strftime('%Y-%m-%d %H:%M:%S')"
   ]
  },
  {
   "cell_type": "markdown",
   "metadata": {},
   "source": [
    "Found some code on stack overflow and in SciPy's community website that implements a band pass butterworth filter for a 1d array: https://scipy-cookbook.readthedocs.io/items/ButterworthBandpass.html#.  I dont know what order filter we need for this data, but for exploratory data analysis, it appears to work ok"
   ]
  },
  {
   "cell_type": "code",
   "execution_count": 299,
   "metadata": {},
   "outputs": [],
   "source": [
    "def butter_bandpass(lowcut, highcut, fs, order=5):\n",
    "    nyq = 0.5 * fs\n",
    "    low = lowcut / nyq\n",
    "    high = highcut / nyq\n",
    "    b, a = butter(order, [low, high], btype='band')\n",
    "    return b, a\n",
    "\n",
    "## May need to better understand which order filter is needed for this dataset\n",
    "def butter_bandpass_filter(data, lowcut, highcut, fs, column_name, order=5):\n",
    "    b, a = butter_bandpass(lowcut, highcut, fs, order=order)\n",
    "    y = lfilter(b, a, data)\n",
    "    y = pd.DataFrame(y, columns=[column_name])\n",
    "    return y"
   ]
  },
  {
   "cell_type": "markdown",
   "metadata": {},
   "source": [
    "Take all the CSV files in the test data folder and concatenate them together.\n",
    "\n",
    "For this exploratory analysis, we would like to plot against timepoints.  The data supplied for each EDA is in 1 column (including the original timestamp), so we must transpose the data frame so that each column becomes 1 row in the eventual dataset.  \n",
    "\n",
    "Ie, 1 column with 8k rows becomes 8k columns (representing timepoints) with 1 row (representing the entire run)"
   ]
  },
  {
   "cell_type": "code",
   "execution_count": 300,
   "metadata": {
    "collapsed": true
   },
   "outputs": [],
   "source": [
    "file_path = r'/Users/dancohen/Code_Projects/Empatica E4 Analysis/EDA_Test_data'\n",
    "all_files = glob.glob(file_path + \"/*.csv\")"
   ]
  },
  {
   "cell_type": "code",
   "execution_count": 301,
   "metadata": {
    "collapsed": true
   },
   "outputs": [],
   "source": [
    "fs = 4.0 ## Sampling frequency.  This test data was gathered at 4hz\n",
    "lowcut = 0.05 ## Lower bound for the filter, as directed by Empatica documentation\n",
    "highcut = 1.0  ## Upper bound for the filter, as directed by Empatica documentation"
   ]
  },
  {
   "cell_type": "code",
   "execution_count": 302,
   "metadata": {},
   "outputs": [],
   "source": [
    "unfiltered_EDA = []\n",
    "filtered_EDA = []\n",
    "\n",
    "for file_path in all_files:\n",
    "    path = file_path.split('/')\n",
    "\n",
    "    #Grabs the 3 digit pariticipant code in the test file names\n",
    "    csv = path[len(path)-1]\n",
    "    file_code = csv[5:7]\n",
    "    df = pd.read_csv(file_path, header=None)\n",
    "    # For this test data, we dont care about the first row, which is the timestamp. \n",
    "    # We didnt import the csv with a header, so the column header is '0'.  Just rename that to the participant ID\n",
    "    # NOTE: The sampling rate of 4hz is found in the second row of each csv file, so we just drop that row as well\n",
    "    # https://support.empatica.com/hc/en-us/articles/201608896-Data-export-and-formatting-from-E4-connect-\n",
    "    \n",
    "    df = df.rename(columns={0: file_code}).drop(df.index[0:3])\n",
    "    unfiltered_EDA.append(df.transpose())\n",
    "    filtered_EDA.append(butter_bandpass_filter(df[file_code], lowcut, highcut, fs, file_code).transpose())\n",
    "    \n",
    "untiltered_frame = pd.concat(unfiltered_EDA)\n",
    "filtered_frame = pd.concat(filtered_EDA)"
   ]
  },
  {
   "cell_type": "code",
   "execution_count": null,
   "metadata": {},
   "outputs": [],
   "source": []
  },
  {
   "cell_type": "markdown",
   "metadata": {},
   "source": [
    "We are transposing the entire dataframe back into 4 columns and ~8k rows just to make doing simple graphs easier.  Turns out that using matplotlib's plot.show() by default looks at each column as a line in the plot"
   ]
  },
  {
   "cell_type": "code",
   "execution_count": 303,
   "metadata": {},
   "outputs": [],
   "source": [
    "filtered_frame = filtered_frame.transpose()\n",
    "untiltered_frame = untiltered_frame.transpose()"
   ]
  },
  {
   "cell_type": "code",
   "execution_count": 304,
   "metadata": {},
   "outputs": [
    {
     "data": {
      "image/png": "[encoded data removed]",
      "text/plain": [
       "<matplotlib.figure.Figure at 0x13b77e0b8>"
      ]
     },
     "metadata": {},
     "output_type": "display_data"
    }
   ],
   "source": [
    "filtered_frame['05'].plot()\n",
    "untiltered_frame['05'].plot()\n",
    "plt.show()"
   ]
  },
  {
   "cell_type": "code",
   "execution_count": null,
   "metadata": {},
   "outputs": [],
   "source": []
  }
 ],
 "metadata": {
  "kernelspec": {
   "display_name": "Python 3",
   "language": "python",
   "name": "python3"
  },
  "language_info": {
   "codemirror_mode": {
    "name": "ipython",
    "version": 3
   },
   "file_extension": ".py",
   "mimetype": "text/x-python",
   "name": "python",
   "nbconvert_exporter": "python",
   "pygments_lexer": "ipython3",
   "version": "3.6.1"
  }
 },
 "nbformat": 4,
 "nbformat_minor": 2
}
