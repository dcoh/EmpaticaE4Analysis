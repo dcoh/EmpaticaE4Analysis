{
 "cells": [
  {
   "cell_type": "code",
   "execution_count": 28,
   "metadata": {},
   "outputs": [],
   "source": [
    "## Should have all the same signal processing functions from the signal package in R:\n",
    "## https://cran.r-project.org/web/packages/signal/signal.pdf\n",
    "from scipy.signal import butter, lfilter\n",
    "\n",
    "## https://docs.scipy.org/doc/scipy/reference/signal.html\n",
    "\n",
    "import pandas as pd\n",
    "import numpy as np\n",
    "import csv\n",
    "import glob\n",
    "import matplotlib.pyplot as plt\n",
    "import datetime\n",
    "from scipy.signal import find_peaks"
   ]
  },
  {
   "cell_type": "code",
   "execution_count": 74,
   "metadata": {},
   "outputs": [],
   "source": [
    "output_path = r'/Users/dancohen/Dropbox/E4 stuff/test data/EDA_All_Data'"
   ]
  },
  {
   "cell_type": "markdown",
   "metadata": {},
   "source": [
    "Define helper functions to convert from the unix timestamp to UTC and to add time to an input date based on a sample rate (will be 4hz for this code)"
   ]
  },
  {
   "cell_type": "code",
   "execution_count": 75,
   "metadata": {},
   "outputs": [],
   "source": [
    "def get_utc_date_time(ts):\n",
    "    return pd.to_datetime(ts, unit='s', infer_datetime_format = True)\n",
    "#.strftime('%H:%M:%S:%f')\n",
    "\n",
    "def add_fs(sample_rate, date):\n",
    "    return date + datetime.timedelta(milliseconds=1.0/(sample_rate) * 1000.0)"
   ]
  },
  {
   "cell_type": "markdown",
   "metadata": {},
   "source": [
    "Found some code on stack overflow and in SciPy's community website that implements a band pass butterworth filter for a 1d array: https://scipy-cookbook.readthedocs.io/items/ButterworthBandpass.html#.  I dont know what order filter we need for this data, but for exploratory data analysis, it appears to work ok"
   ]
  },
  {
   "cell_type": "code",
   "execution_count": 76,
   "metadata": {},
   "outputs": [],
   "source": [
    "def butter_bandpass(lowcut, highcut, fs, order=5):\n",
    "    nyq = 0.5 * fs\n",
    "    low = lowcut / nyq\n",
    "    high = highcut / nyq\n",
    "    b, a = butter(order, [low, high], btype='band')\n",
    "    return b, a\n",
    "\n",
    "## May need to better understand which order filter is needed for this dataset\n",
    "def butter_bandpass_filter(data, lowcut, highcut, fs, column_name, order=5):\n",
    "    b, a = butter_bandpass(lowcut, highcut, fs, order=order)\n",
    "    y = lfilter(b, a, data)\n",
    "    y = pd.DataFrame(y, columns=[column_name])\n",
    "    return y"
   ]
  },
  {
   "cell_type": "markdown",
   "metadata": {},
   "source": [
    "Helper function that will generate the list of timestamps that will be added as a new column to our dataframe"
   ]
  },
  {
   "cell_type": "code",
   "execution_count": 77,
   "metadata": {},
   "outputs": [],
   "source": [
    "def time_range(df_length, start_timestamp):\n",
    "    # Generate date time range based on sample rate and starting timestamp\n",
    "    time_range = []\n",
    "    t_0 = get_utc_date_time(float(start_timestamp))\n",
    "    time_range.append(t_0)\n",
    "    \n",
    "    next_date = t_0\n",
    "    \n",
    "    for count in range(df_length-1):\n",
    "        next_date = add_fs(sample_rate, next_date)\n",
    "        time_range.append(next_date)\n",
    "    return time_range"
   ]
  },
  {
   "cell_type": "markdown",
   "metadata": {},
   "source": [
    "Helper function that returns a list of floats iterated upwards by sample rate"
   ]
  },
  {
   "cell_type": "code",
   "execution_count": 78,
   "metadata": {},
   "outputs": [],
   "source": [
    "def iterate_sample_rate(df_length, fs):\n",
    "    # returns list of floats starting from zero iterated upward by sample rate\n",
    "    result = []\n",
    "    curr_time = 0.0\n",
    "    result.append(curr_time)\n",
    "    \n",
    "    for i in range(df_length-1):\n",
    "        curr_time += 1.0/fs\n",
    "        result.append(curr_time)\n",
    "    return result"
   ]
  },
  {
   "cell_type": "markdown",
   "metadata": {},
   "source": [
    "Helper function that finds the time difference between 2 unix timestamps"
   ]
  },
  {
   "cell_type": "code",
   "execution_count": 79,
   "metadata": {},
   "outputs": [],
   "source": [
    "def t_0_diff_seconds(t_0, date_time):\n",
    "    return (date_time - pd.to_datetime(t_0, unit='s', infer_datetime_format = True)).total_seconds()"
   ]
  },
  {
   "cell_type": "markdown",
   "metadata": {},
   "source": [
    "Change file_path to point to where the folders containing EDA data will be"
   ]
  },
  {
   "cell_type": "code",
   "execution_count": 80,
   "metadata": {},
   "outputs": [],
   "source": [
    "file_path = r'/Users/dancohen/Dropbox/E4 stuff/test data'\n",
    "output_path = r'/Users/dancohen/Dropbox/E4 stuff/test data/EDA_All_Data'\n",
    "all_folders = glob.glob(file_path + \"/PRF*\")"
   ]
  },
  {
   "cell_type": "markdown",
   "metadata": {},
   "source": [
    "EDA peak detection and stats about the found peaks.  Also can output graphs with the peaks labeled"
   ]
  },
  {
   "cell_type": "code",
   "execution_count": 134,
   "metadata": {},
   "outputs": [],
   "source": [
    "def peak_detection_stats(data, part_id):\n",
    "    peaks, features = find_peaks(data[part_id], height=(0.01, None))\n",
    "    peak_list = peaks.tolist()\n",
    "    # Uncomment the following lines to output graphs with peaks labeled\n",
    "    #plt.figure(figsize=(30, 7))\n",
    "    #plt.plot(data[part_id])\n",
    "    #plt.plot(data.iloc[peak_list],'x')\n",
    "    #plt.title(\"PRF{}\".format(part_id))\n",
    "    #plt.ylabel('EDA (microsiemens)')\n",
    "    \n",
    "    #plt.savefig(output_path+\"/EDA{}.pdf\".format(part_id))\n",
    "    #plt.show()\n",
    "    return eda_sum_stats(data.iloc[peak_list], part_id)"
   ]
  },
  {
   "cell_type": "code",
   "execution_count": 135,
   "metadata": {},
   "outputs": [],
   "source": [
    "fs = 4.0 ## Sampling frequency.  This test data was gathered at 4hz\n",
    "lowcut = 0.05 ## Lower bound for the filter, as directed by Empatica documentation\n",
    "highcut = 1.0  ## Upper bound for the filter, as directed by Empatica documentation"
   ]
  },
  {
   "cell_type": "markdown",
   "metadata": {},
   "source": [
    "Now that we have a list of file paths that each will contain the files we are interested in, we can start to do work with the csv files they contain"
   ]
  },
  {
   "cell_type": "markdown",
   "metadata": {},
   "source": [
    "Helper function that calculates stats for EDA peak detection"
   ]
  },
  {
   "cell_type": "code",
   "execution_count": 138,
   "metadata": {},
   "outputs": [],
   "source": [
    "def eda_sum_stats(peaks, part_id):\n",
    "    #no peaks were found in this section of the data\n",
    "    if(len(peaks)==0):\n",
    "        peak_max = None\n",
    "        peak_avg = None\n",
    "        peak_num = 0\n",
    "    else:    \n",
    "        np_peaks = np.array(peaks[part_id])\n",
    "        peak_max = np_peaks.max()\n",
    "        peak_avg = np_peaks.mean()\n",
    "        peak_num = len(peaks)\n",
    "    stats = {part_id: [peak_max, peak_avg, peak_num]}\n",
    "    names = ['Max Peak Height', 'Peak Height Avg', 'Number of Peaks']\n",
    "    df = pd.DataFrame(stats)\n",
    "    df['stats'] = names\n",
    "    df = df.set_index('stats')\n",
    "    return df"
   ]
  },
  {
   "cell_type": "code",
   "execution_count": 139,
   "metadata": {
    "scrolled": true
   },
   "outputs": [
    {
     "name": "stdout",
     "output_type": "stream",
     "text": [
      "part_id:012\n",
      "43\n",
      "                012\n",
      "Timestamp          \n",
      "0.25       0.248922\n",
      "2.00       0.067518\n",
      "3.50       0.158087\n",
      "4.50       0.075517\n",
      "5.50       0.029696\n",
      "6.50       0.011919\n",
      "13.25      0.069320\n",
      "16.75      0.276598\n",
      "17.75      0.346614\n",
      "18.75      0.677883\n",
      "26.50      0.207211\n",
      "36.00      0.037110\n",
      "38.00      0.169146\n",
      "41.50      0.073536\n",
      "42.00      0.075862\n",
      "43.50      0.062161\n",
      "47.25      0.274117\n",
      "56.25      0.090383\n",
      "58.00      0.078372\n",
      "62.75      0.558160\n",
      "77.25      0.132124\n",
      "78.25      0.125594\n",
      "95.50      0.027268\n",
      "98.50      0.016489\n",
      "100.75     0.037758\n",
      "120.25     0.023121\n",
      "129.00     0.012711\n",
      "130.25     0.015123\n",
      "131.75     0.013293\n",
      "133.25     0.011204\n",
      "155.00     0.013657\n",
      "173.75     0.188808\n",
      "175.25     0.356118\n",
      "181.00     0.096440\n",
      "182.00     0.079393\n",
      "182.75     0.105387\n",
      "183.75     0.205063\n",
      "186.25     0.390404\n",
      "189.75     0.114112\n",
      "191.25     0.602542\n",
      "192.00     0.393937\n",
      "193.25     0.371945\n",
      "198.75     0.211586\n",
      "part_id:012\n",
      "32\n",
      "                012\n",
      "Timestamp          \n",
      "2.50       0.108403\n",
      "4.00       0.306590\n",
      "12.50      0.106549\n",
      "13.75      0.073413\n",
      "14.75      0.083696\n",
      "16.50      0.163671\n",
      "19.25      0.060543\n",
      "20.50      0.199433\n",
      "24.25      0.035561\n",
      "32.00      0.071102\n",
      "33.25      0.052074\n",
      "35.50      0.192631\n",
      "36.50      0.230056\n",
      "37.50      0.115147\n",
      "48.75      0.040563\n",
      "50.00      0.044750\n",
      "70.25      0.010542\n",
      "73.75      0.012329\n",
      "150.25     0.051577\n",
      "151.50     0.015712\n",
      "153.00     0.108251\n",
      "154.00     0.061458\n",
      "156.25     0.123863\n",
      "160.50     0.060490\n",
      "162.00     0.227950\n",
      "163.25     0.124877\n",
      "165.25     0.062432\n",
      "166.00     0.149325\n",
      "167.00     0.069255\n",
      "178.50     0.142646\n",
      "180.00     0.063386\n",
      "183.00     0.041997\n",
      "part_id:012\n",
      "20\n",
      "                012\n",
      "Timestamp          \n",
      "0.50       0.047649\n",
      "1.75       0.024327\n",
      "7.00       0.015864\n",
      "8.75       0.067830\n",
      "9.75       0.024613\n",
      "10.75      0.032471\n",
      "11.75      0.031360\n",
      "13.75      0.074216\n",
      "18.25      0.029342\n",
      "19.75      0.023845\n",
      "21.75      0.398254\n",
      "24.25      0.181074\n",
      "25.25      0.020574\n",
      "33.00      0.038913\n",
      "35.50      0.281083\n",
      "51.25      0.037917\n",
      "52.00      0.038102\n",
      "86.50      0.017566\n",
      "113.25     0.040516\n",
      "115.25     0.059795\n",
      "part_id:014\n",
      "2\n",
      "                014\n",
      "Timestamp          \n",
      "16.50      0.010813\n",
      "18.25      0.014245\n",
      "part_id:014\n",
      "3\n",
      "                014\n",
      "Timestamp          \n",
      "0.25       0.016898\n",
      "13.25      0.015229\n",
      "14.25      0.010804\n",
      "part_id:014\n",
      "1\n",
      "                014\n",
      "Timestamp          \n",
      "13.25      0.013146\n",
      "part_id:205\n",
      "11\n",
      "                205\n",
      "Timestamp          \n",
      "1.00       0.032125\n",
      "14.75      0.062228\n",
      "19.00      0.024728\n",
      "19.75      0.028381\n",
      "20.75      0.045600\n",
      "40.50      0.026257\n",
      "41.50      0.026740\n",
      "43.25      0.035600\n",
      "170.00     0.025761\n",
      "176.25     0.012383\n",
      "191.25     0.022769\n",
      "part_id:205\n",
      "11\n",
      "                205\n",
      "Timestamp          \n",
      "0.25       0.026932\n",
      "2.25       0.058810\n",
      "7.50       0.025461\n",
      "8.50       0.049043\n",
      "9.75       0.012462\n",
      "10.50      0.010797\n",
      "14.50      0.010466\n",
      "121.00     0.021026\n",
      "131.75     0.021920\n",
      "132.25     0.021150\n",
      "133.25     0.029756\n",
      "part_id:205\n",
      "15\n",
      "                205\n",
      "Timestamp          \n",
      "1.50       0.036696\n",
      "10.50      0.015872\n",
      "11.75      0.030358\n",
      "17.25      0.056066\n",
      "18.25      0.085808\n",
      "19.50      0.051233\n",
      "22.00      0.036085\n",
      "31.25      0.013655\n",
      "33.25      0.036869\n",
      "34.75      0.022838\n",
      "35.50      0.027541\n",
      "37.50      0.038415\n",
      "88.75      0.013950\n",
      "93.00      0.014896\n",
      "94.25      0.012723\n",
      "part_id:020\n",
      "1\n",
      "                020\n",
      "Timestamp          \n",
      "62.0       0.028676\n",
      "part_id:020\n",
      "0\n",
      "Empty DataFrame\n",
      "Columns: [020]\n",
      "Index: []\n",
      "part_id:020\n",
      "0\n",
      "Empty DataFrame\n",
      "Columns: [020]\n",
      "Index: []\n",
      "part_id:002\n",
      "2\n",
      "                002\n",
      "Timestamp          \n",
      "22.0       0.025512\n",
      "33.5       0.011602\n",
      "part_id:002\n",
      "10\n",
      "                002\n",
      "Timestamp          \n",
      "11.75      0.012544\n",
      "18.50      0.011407\n",
      "25.25      0.012995\n",
      "26.25      0.010498\n",
      "33.00      0.013062\n",
      "85.00      0.011486\n",
      "125.50     0.061274\n",
      "132.50     0.016946\n",
      "133.50     0.014594\n",
      "136.75     0.039914\n",
      "part_id:002\n",
      "11\n",
      "                002\n",
      "Timestamp          \n",
      "3.25       0.011203\n",
      "4.75       0.011317\n",
      "11.00      0.011686\n",
      "34.50      0.072647\n",
      "42.00      0.020835\n",
      "73.00      0.018282\n",
      "80.00      0.016605\n",
      "81.00      0.017000\n",
      "178.00     0.011786\n",
      "183.75     0.016179\n",
      "184.75     0.026583\n"
     ]
    }
   ],
   "source": [
    "eda_list = []\n",
    "script_1_2 = []\n",
    "script_2_3 = []\n",
    "script_3_end = []\n",
    "\n",
    "# Keep track of statistics for each participant\n",
    "st_1_2 = []\n",
    "st_2_3 = []\n",
    "st_3_end = []\n",
    "\n",
    "for folder in all_folders:\n",
    "    spl = folder.split('/')\n",
    "    \n",
    "    #Folder names are 'PRF###' (participant ID) and we are interested in the ID\n",
    "    part_id = spl[len(spl)-1][3:]\n",
    "    \n",
    "    eda_df_raw = pd.read_csv(folder+\"/eda.csv\")\n",
    "    starting_timestamp = eda_df_raw.columns[0]\n",
    "    sample_rate = eda_df_raw[starting_timestamp][0]\n",
    "    \n",
    "    # Grab the csv containing the timestamps that mark the start and end times of the scripts\n",
    "    script_times = pd.read_csv(folder+\"/tags.csv\", header=None)\n",
    "    script_times = script_times.apply(lambda x: pd.to_datetime(x, unit='s'))\n",
    "    \n",
    "    try:\n",
    "        begin_s1 = t_0_diff_seconds(starting_timestamp, script_times.loc[1].iat[0])\n",
    "        end_s1 = t_0_diff_seconds(starting_timestamp, script_times.loc[2].iat[0])\n",
    "\n",
    "        begin_s2 = t_0_diff_seconds(starting_timestamp, script_times.loc[3].iat[0])    \n",
    "        end_s2 = t_0_diff_seconds(starting_timestamp, script_times.loc[4].iat[0])\n",
    "\n",
    "        begin_s3 = t_0_diff_seconds(starting_timestamp, script_times.loc[5].iat[0])\n",
    "        end_s3 = t_0_diff_seconds(starting_timestamp, script_times.loc[6].iat[0])\n",
    "    except Exception as err:\n",
    "        print(\"Error occurred parsing tags.csv for PRF{}.  Error: {}. This file will be skipped.\".format(part_id, err))\n",
    "        continue\n",
    "    \n",
    "    \n",
    "    # Drop the first 2 rows, as we already have the timestamp and sample rate\n",
    "    eda_df_raw = eda_df_raw.drop(eda_df_raw.index[0:2])\n",
    "    \n",
    "    # Rename the column to the participant ID\n",
    "    eda_df_raw = eda_df_raw.rename(columns={starting_timestamp: part_id})\n",
    "    \n",
    "    # Generate data frame with timestamps iterating upwards starting at t_0\n",
    "    timestamps = pd.DataFrame(time_range(len(eda_df_raw), starting_timestamp))\n",
    "    \n",
    "    # Generate list of timings starting from 0 iterated upwards by 1/sample rate seconds\n",
    "    time_col = iterate_sample_rate(len(eda_df_raw), sample_rate)\n",
    "    \n",
    "    eda_df_filtered = butter_bandpass_filter(eda_df_raw[part_id], lowcut, highcut, fs, part_id)\n",
    "    \n",
    "    # Now, we can parse out data that we are interested in.  We will get 3 dataframes, one with data between \n",
    "    # the end of script 1 and beginning of script 2, one between the end of script 2 and beginning of script 3\n",
    "    # and one that has the data from end of script 3 to the end of the timing\n",
    "    eda_df_times = eda_df_filtered.copy()\n",
    "        \n",
    "    eda_df_times['Timestamp'] = time_col\n",
    "    \n",
    "    df_1_2 = eda_df_times[(eda_df_times['Timestamp'] >= end_s1) & (eda_df_times['Timestamp'] < begin_s2)]\n",
    "    df_2_3 = eda_df_times[(eda_df_times['Timestamp'] >= end_s2) & (eda_df_times['Timestamp'] < begin_s3)]\n",
    "    df_3_end = eda_df_times[(eda_df_times['Timestamp'] >= end_s3)]\n",
    "    \n",
    "    #Normalize each frame's timestamp down to 0.00 seconds once we know where the timing cutoffs for each frame are\n",
    "    #See lines above\n",
    "    norm_1_2 = df_1_2.iloc[0][1]\n",
    "    #Make a copy here to prevent chaining assignment in the dataframe\n",
    "    cp_1_2 = df_1_2.copy()\n",
    "    cp_1_2['Timestamp'] = df_1_2.apply(lambda x: x['Timestamp']-norm_1_2, axis=1)\n",
    "    cp_1_2 = cp_1_2.set_index('Timestamp')\n",
    "    stats_1_2 = peak_detection_stats(cp_1_2, part_id)\n",
    "    \n",
    "    norm_2_3 = df_2_3.iloc[0][1]\n",
    "    cp_2_3 = df_2_3.copy()\n",
    "    cp_2_3['Timestamp'] = df_2_3.apply(lambda x: x['Timestamp']-norm_2_3, axis=1)\n",
    "    cp_2_3 = cp_2_3.set_index('Timestamp')\n",
    "    stats_2_3 = peak_detection_stats(cp_2_3, part_id)\n",
    "\n",
    "    \n",
    "    norm_3_end = df_3_end.iloc[0][1]\n",
    "    cp_3_end = df_3_end.copy()\n",
    "    cp_3_end['Timestamp'] = df_3_end.apply(lambda x: x['Timestamp']-norm_3_end, axis=1)\n",
    "    cp_3_end = cp_3_end.set_index('Timestamp')\n",
    "    stats_3_end = peak_detection_stats(cp_3_end, part_id)\n",
    "\n",
    "    \n",
    "    script_1_2.append(cp_1_2)\n",
    "    st_1_2.append(stats_1_2)\n",
    "    \n",
    "    script_2_3.append(cp_2_3)\n",
    "    st_2_3.append(stats_2_3)\n",
    "    \n",
    "    script_3_end.append(cp_3_end)\n",
    "    st_3_end.append(stats_3_end)\n",
    "    #Set the index to be the timestamp, so that when we concatenate the data together we get an easy join\n",
    "    eda_df_times = eda_df_times.set_index('Timestamp')\n",
    "    eda_list.append(eda_df_times.transpose())\n",
    "    "
   ]
  },
  {
   "cell_type": "code",
   "execution_count": 12,
   "metadata": {},
   "outputs": [],
   "source": [
    "eda_all_participants = pd.concat(eda_list).transpose()"
   ]
  },
  {
   "cell_type": "code",
   "execution_count": 13,
   "metadata": {},
   "outputs": [],
   "source": [
    "eda_all_participants.to_csv(output_path+\"/EDA_All_Data.csv\", float_format='%.6f')"
   ]
  },
  {
   "cell_type": "markdown",
   "metadata": {
    "collapsed": true
   },
   "source": [
    "Now, we can output 3 separate files representing the script timings.  One for the data between end of script 1 and beginning of script 2, one for end of script 2 and beginning of script 3 and one for end of script 3 and end of the data.\n",
    "\n",
    "Use the axis=1 option to concatenate (defaulting to an outer join) along the timestamp axis"
   ]
  },
  {
   "cell_type": "code",
   "execution_count": 110,
   "metadata": {},
   "outputs": [],
   "source": [
    "output_1_2 = pd.concat(script_1_2, axis=1)\n",
    "output_2_3 = pd.concat(script_2_3, axis=1)\n",
    "output_3_end = pd.concat(script_3_end, axis=1)"
   ]
  },
  {
   "cell_type": "code",
   "execution_count": 143,
   "metadata": {},
   "outputs": [],
   "source": [
    "stat_1_2 = pd.concat(st_1_2, axis=1)\n",
    "stat_2_3 = pd.concat(st_2_3, axis=1)\n",
    "stat_3_end = pd.concat(st_3_end, axis=1)"
   ]
  },
  {
   "cell_type": "code",
   "execution_count": 20,
   "metadata": {},
   "outputs": [
    {
     "data": {
      "image/png": "[encoded data removed]",
      "text/plain": [
       "<Figure size 432x288 with 1 Axes>"
      ]
     },
     "metadata": {
      "needs_background": "light"
     },
     "output_type": "display_data"
    }
   ],
   "source": [
    "plt.plot(output_3_end['002'])\n",
    "\n",
    "peaks, features = find_peaks(ibi_df[part_id], height=(0.01, None))\n",
    "peak_list = peaks.tolist()\n",
    "\n",
    "plt.scatter(ibi_df.iloc[peak_list]['Time_After_T0'], ibi_df.iloc[peak_list][part_id], c='r')\n",
    "#plt.plot(output_1_2)\n",
    "#plt.plot(output_2_3)\n",
    "plt.show()"
   ]
  },
  {
   "cell_type": "code",
   "execution_count": 316,
   "metadata": {
    "collapsed": true
   },
   "outputs": [],
   "source": [
    "output_1_2.to_csv(output_path+\"/EDA_1_2.csv\", float_format='%.6f')\n",
    "output_2_3.to_csv(output_path+\"/EDA_2_3.csv\", float_format='%.6f')\n",
    "output_3_end.to_csv(output_path+\"/EDA_3_end.csv\", float_format='%.6f')"
   ]
  },
  {
   "cell_type": "code",
   "execution_count": 144,
   "metadata": {},
   "outputs": [],
   "source": [
    "stat_1_2.to_csv(output_path+\"/EDA_stats_1_2.csv\", float_format='%.6f')\n",
    "stat_2_3.to_csv(output_path+\"/EDA_stats_2_3.csv\", float_format='%.6f')\n",
    "stat_3_end.to_csv(output_path+\"/EDA_stats_3_end.csv\", float_format='%.6f')"
   ]
  },
  {
   "cell_type": "code",
   "execution_count": null,
   "metadata": {},
   "outputs": [],
   "source": []
  }
 ],
 "metadata": {
  "kernelspec": {
   "display_name": "Python 3",
   "language": "python",
   "name": "python3"
  },
  "language_info": {
   "codemirror_mode": {
    "name": "ipython",
    "version": 3
   },
   "file_extension": ".py",
   "mimetype": "text/x-python",
   "name": "python",
   "nbconvert_exporter": "python",
   "pygments_lexer": "ipython3",
   "version": "3.6.10"
  }
 },
 "nbformat": 4,
 "nbformat_minor": 2
}
