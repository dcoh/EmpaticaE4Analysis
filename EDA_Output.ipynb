{
 "cells": [
  {
   "cell_type": "code",
   "execution_count": 1,
   "metadata": {
    "collapsed": true
   },
   "outputs": [],
   "source": [
    "## Should have all the same signal processing functions from the signal package in R:\n",
    "## https://cran.r-project.org/web/packages/signal/signal.pdf\n",
    "from scipy.signal import butter, lfilter\n",
    "\n",
    "## https://docs.scipy.org/doc/scipy/reference/signal.html\n",
    "\n",
    "import pandas as pd\n",
    "import numpy as np\n",
    "import csv\n",
    "import glob\n",
    "import matplotlib.pyplot as plt\n",
    "import datetime"
   ]
  },
  {
   "cell_type": "code",
   "execution_count": 92,
   "metadata": {
    "collapsed": true
   },
   "outputs": [],
   "source": [
    "output_path = r'/Users/dancohen/Dropbox/E4 stuff/test data/EDA_All_Data'"
   ]
  },
  {
   "cell_type": "markdown",
   "metadata": {},
   "source": [
    "Define helper functions to convert from the unix timestamp to UTC and to add time to an input date based on a sample rate (will be 4hz for this code)"
   ]
  },
  {
   "cell_type": "code",
   "execution_count": 93,
   "metadata": {
    "collapsed": true
   },
   "outputs": [],
   "source": [
    "def get_utc_date_time(ts):\n",
    "    return datetime.datetime.fromtimestamp(ts)\n",
    "#.strftime('%H:%M:%S:%f')\n",
    "\n",
    "def add_fs(sample_rate, date):\n",
    "    return date + datetime.timedelta(milliseconds=1.0/(sample_rate) * 1000.0)"
   ]
  },
  {
   "cell_type": "markdown",
   "metadata": {},
   "source": [
    "Found some code on stack overflow and in SciPy's community website that implements a band pass butterworth filter for a 1d array: https://scipy-cookbook.readthedocs.io/items/ButterworthBandpass.html#.  I dont know what order filter we need for this data, but for exploratory data analysis, it appears to work ok"
   ]
  },
  {
   "cell_type": "code",
   "execution_count": 94,
   "metadata": {
    "collapsed": true
   },
   "outputs": [],
   "source": [
    "def butter_bandpass(lowcut, highcut, fs, order=5):\n",
    "    nyq = 0.5 * fs\n",
    "    low = lowcut / nyq\n",
    "    high = highcut / nyq\n",
    "    b, a = butter(order, [low, high], btype='band')\n",
    "    return b, a\n",
    "\n",
    "## May need to better understand which order filter is needed for this dataset\n",
    "def butter_bandpass_filter(data, lowcut, highcut, fs, column_name, order=5):\n",
    "    b, a = butter_bandpass(lowcut, highcut, fs, order=order)\n",
    "    y = lfilter(b, a, data)\n",
    "    y = pd.DataFrame(y, columns=[column_name])\n",
    "    return y"
   ]
  },
  {
   "cell_type": "markdown",
   "metadata": {},
   "source": [
    "Helper function that will generate the list of timestamps that will be added as a new column to our dataframe"
   ]
  },
  {
   "cell_type": "code",
   "execution_count": 132,
   "metadata": {
    "collapsed": true
   },
   "outputs": [],
   "source": [
    "def time_range(df_length, start_timestamp):\n",
    "    # Generate date time range based on sample rate and starting timestamp\n",
    "    time_range = []\n",
    "    t_0 = get_utc_date_time(float(start_timestamp))\n",
    "    time_range.append(t_0)\n",
    "    \n",
    "    next_date = t_0\n",
    "    \n",
    "    for count in range(df_length-1):\n",
    "        next_date = add_fs(sample_rate, next_date)\n",
    "        time_range.append(next_date)\n",
    "    return time_range"
   ]
  },
  {
   "cell_type": "markdown",
   "metadata": {},
   "source": [
    "Helper function that returns a list of floats iterated upwards by sample rate"
   ]
  },
  {
   "cell_type": "code",
   "execution_count": 147,
   "metadata": {
    "collapsed": true
   },
   "outputs": [],
   "source": [
    "def iterate_sample_rate(df_length, fs):\n",
    "    result = []\n",
    "    curr_time = 0.0\n",
    "    result.append(curr_time)\n",
    "    \n",
    "    for i in range(df_length-1):\n",
    "        curr_time += 1.0/fs\n",
    "        result.append(curr_time)\n",
    "    return result"
   ]
  },
  {
   "cell_type": "markdown",
   "metadata": {},
   "source": [
    "Change file_path to point to where the folders containing EDA data will be"
   ]
  },
  {
   "cell_type": "code",
   "execution_count": 148,
   "metadata": {
    "collapsed": true
   },
   "outputs": [],
   "source": [
    "file_path = r'/Users/dancohen/Dropbox/E4 stuff/test data'\n",
    "output_path = r'/Users/dancohen/Dropbox/E4 stuff/test data/EDA_All_Data'\n",
    "all_folders = glob.glob(file_path + \"/PRF*\")"
   ]
  },
  {
   "cell_type": "code",
   "execution_count": 149,
   "metadata": {
    "collapsed": true
   },
   "outputs": [],
   "source": [
    "fs = 4.0 ## Sampling frequency.  This test data was gathered at 4hz\n",
    "lowcut = 0.05 ## Lower bound for the filter, as directed by Empatica documentation\n",
    "highcut = 1.0  ## Upper bound for the filter, as directed by Empatica documentation"
   ]
  },
  {
   "cell_type": "markdown",
   "metadata": {},
   "source": [
    "Now that we have a list of file paths that each will contain the files we are interested in, we can start to do work with the csv files they contain"
   ]
  },
  {
   "cell_type": "code",
   "execution_count": 156,
   "metadata": {
    "scrolled": true
   },
   "outputs": [],
   "source": [
    "eda_list = []\n",
    "\n",
    "for folder in all_folders:\n",
    "    spl = folder.split('/')\n",
    "    part_id = spl[len(spl)-1][3:]\n",
    "    \n",
    "    eda_df_raw = pd.read_csv(folder+\"/eda.csv\")\n",
    "    starting_timestamp = eda_df_raw.columns[0]\n",
    "    sample_rate = eda_df_raw[starting_timestamp][0]\n",
    "    \n",
    "    # Drop the first 2 rows, as we already have the timestamp and sample rate\n",
    "    eda_df_raw = eda_df_raw.drop(eda_df_raw.index[0:2])\n",
    "    \n",
    "    # Rename the column to the participant ID\n",
    "    eda_df_raw = eda_df_raw.rename(columns={starting_timestamp: part_id})\n",
    "    #time_col = time_range(len(eda_df_raw), starting_timestamp)\n",
    "    time_col = iterate_sample_rate(len(eda_df_raw), sample_rate)\n",
    "    \n",
    "    eda_df_filtered = butter_bandpass_filter(eda_df_raw[part_id], lowcut, highcut, fs, part_id)\n",
    "    eda_df_filtered['Timestamp'] = time_col\n",
    "    \n",
    "    #Set the index to be the timestamp, so that when we concatenate the data together we get an easy join\n",
    "    eda_df_filtered = eda_df_filtered.set_index('Timestamp')\n",
    "    #eda_df_filtered = eda_df_filtered.transpose()\n",
    "    eda_list.append(eda_df_filtered.transpose())"
   ]
  },
  {
   "cell_type": "code",
   "execution_count": 157,
   "metadata": {},
   "outputs": [
    {
     "data": {
      "text/html": [
       "<div>\n",
       "<style>\n",
       "    .dataframe thead tr:only-child th {\n",
       "        text-align: right;\n",
       "    }\n",
       "\n",
       "    .dataframe thead th {\n",
       "        text-align: left;\n",
       "    }\n",
       "\n",
       "    .dataframe tbody tr th {\n",
       "        vertical-align: top;\n",
       "    }\n",
       "</style>\n",
       "<table border=\"1\" class=\"dataframe\">\n",
       "  <thead>\n",
       "    <tr style=\"text-align: right;\">\n",
       "      <th>Timestamp</th>\n",
       "      <th>0.0</th>\n",
       "      <th>0.25</th>\n",
       "      <th>0.5</th>\n",
       "      <th>0.75</th>\n",
       "      <th>1.0</th>\n",
       "      <th>1.25</th>\n",
       "      <th>1.5</th>\n",
       "      <th>1.75</th>\n",
       "      <th>2.0</th>\n",
       "      <th>2.25</th>\n",
       "      <th>...</th>\n",
       "      <th>1980.25</th>\n",
       "      <th>1980.5</th>\n",
       "      <th>1980.75</th>\n",
       "      <th>1981.0</th>\n",
       "      <th>1981.25</th>\n",
       "      <th>1981.5</th>\n",
       "      <th>1981.75</th>\n",
       "      <th>1982.0</th>\n",
       "      <th>1982.25</th>\n",
       "      <th>1982.5</th>\n",
       "    </tr>\n",
       "  </thead>\n",
       "  <tbody>\n",
       "    <tr>\n",
       "      <th>012</th>\n",
       "      <td>0.035781</td>\n",
       "      <td>0.224242</td>\n",
       "      <td>0.613521</td>\n",
       "      <td>0.984608</td>\n",
       "      <td>1.104027</td>\n",
       "      <td>1.075770</td>\n",
       "      <td>1.103839</td>\n",
       "      <td>1.127801</td>\n",
       "      <td>0.948930</td>\n",
       "      <td>0.526488</td>\n",
       "      <td>...</td>\n",
       "      <td>NaN</td>\n",
       "      <td>NaN</td>\n",
       "      <td>NaN</td>\n",
       "      <td>NaN</td>\n",
       "      <td>NaN</td>\n",
       "      <td>NaN</td>\n",
       "      <td>NaN</td>\n",
       "      <td>NaN</td>\n",
       "      <td>NaN</td>\n",
       "      <td>NaN</td>\n",
       "    </tr>\n",
       "    <tr>\n",
       "      <th>205</th>\n",
       "      <td>0.011937</td>\n",
       "      <td>0.073250</td>\n",
       "      <td>0.188914</td>\n",
       "      <td>0.260583</td>\n",
       "      <td>0.197817</td>\n",
       "      <td>0.071141</td>\n",
       "      <td>0.007552</td>\n",
       "      <td>0.009351</td>\n",
       "      <td>-0.003641</td>\n",
       "      <td>-0.057317</td>\n",
       "      <td>...</td>\n",
       "      <td>NaN</td>\n",
       "      <td>NaN</td>\n",
       "      <td>NaN</td>\n",
       "      <td>NaN</td>\n",
       "      <td>NaN</td>\n",
       "      <td>NaN</td>\n",
       "      <td>NaN</td>\n",
       "      <td>NaN</td>\n",
       "      <td>NaN</td>\n",
       "      <td>NaN</td>\n",
       "    </tr>\n",
       "    <tr>\n",
       "      <th>020</th>\n",
       "      <td>0.002046</td>\n",
       "      <td>0.012965</td>\n",
       "      <td>0.034941</td>\n",
       "      <td>0.051446</td>\n",
       "      <td>0.043791</td>\n",
       "      <td>0.020799</td>\n",
       "      <td>0.005530</td>\n",
       "      <td>0.001418</td>\n",
       "      <td>-0.003526</td>\n",
       "      <td>-0.012286</td>\n",
       "      <td>...</td>\n",
       "      <td>NaN</td>\n",
       "      <td>NaN</td>\n",
       "      <td>NaN</td>\n",
       "      <td>NaN</td>\n",
       "      <td>NaN</td>\n",
       "      <td>NaN</td>\n",
       "      <td>NaN</td>\n",
       "      <td>NaN</td>\n",
       "      <td>NaN</td>\n",
       "      <td>NaN</td>\n",
       "    </tr>\n",
       "    <tr>\n",
       "      <th>002</th>\n",
       "      <td>0.001216</td>\n",
       "      <td>0.008277</td>\n",
       "      <td>0.023869</td>\n",
       "      <td>0.037354</td>\n",
       "      <td>0.033335</td>\n",
       "      <td>0.016045</td>\n",
       "      <td>0.003916</td>\n",
       "      <td>0.001096</td>\n",
       "      <td>-0.001983</td>\n",
       "      <td>-0.006556</td>\n",
       "      <td>...</td>\n",
       "      <td>-0.032933</td>\n",
       "      <td>-0.004779</td>\n",
       "      <td>0.016179</td>\n",
       "      <td>0.013743</td>\n",
       "      <td>0.011977</td>\n",
       "      <td>0.020638</td>\n",
       "      <td>0.026583</td>\n",
       "      <td>0.02522</td>\n",
       "      <td>0.024721</td>\n",
       "      <td>0.027532</td>\n",
       "    </tr>\n",
       "  </tbody>\n",
       "</table>\n",
       "<p>4 rows × 7931 columns</p>\n",
       "</div>"
      ],
      "text/plain": [
       "Timestamp   0.00      0.25      0.50      0.75      1.00      1.25     \\\n",
       "012        0.035781  0.224242  0.613521  0.984608  1.104027  1.075770   \n",
       "205        0.011937  0.073250  0.188914  0.260583  0.197817  0.071141   \n",
       "020        0.002046  0.012965  0.034941  0.051446  0.043791  0.020799   \n",
       "002        0.001216  0.008277  0.023869  0.037354  0.033335  0.016045   \n",
       "\n",
       "Timestamp   1.50      1.75      2.00      2.25       ...      1980.25  \\\n",
       "012        1.103839  1.127801  0.948930  0.526488    ...          NaN   \n",
       "205        0.007552  0.009351 -0.003641 -0.057317    ...          NaN   \n",
       "020        0.005530  0.001418 -0.003526 -0.012286    ...          NaN   \n",
       "002        0.003916  0.001096 -0.001983 -0.006556    ...    -0.032933   \n",
       "\n",
       "Timestamp   1980.50   1980.75   1981.00   1981.25   1981.50   1981.75  \\\n",
       "012             NaN       NaN       NaN       NaN       NaN       NaN   \n",
       "205             NaN       NaN       NaN       NaN       NaN       NaN   \n",
       "020             NaN       NaN       NaN       NaN       NaN       NaN   \n",
       "002       -0.004779  0.016179  0.013743  0.011977  0.020638  0.026583   \n",
       "\n",
       "Timestamp  1982.00   1982.25   1982.50  \n",
       "012            NaN       NaN       NaN  \n",
       "205            NaN       NaN       NaN  \n",
       "020            NaN       NaN       NaN  \n",
       "002        0.02522  0.024721  0.027532  \n",
       "\n",
       "[4 rows x 7931 columns]"
      ]
     },
     "execution_count": 157,
     "metadata": {},
     "output_type": "execute_result"
    }
   ],
   "source": [
    "eda_all_participants = pd.concat(eda_list)\n",
    "eda_all_participants"
   ]
  },
  {
   "cell_type": "code",
   "execution_count": 152,
   "metadata": {},
   "outputs": [],
   "source": [
    "#eda_all_participants = eda_all_participants.transpose()\n",
    "eda_all_participants = eda_all_participants.transpose()"
   ]
  },
  {
   "cell_type": "code",
   "execution_count": 153,
   "metadata": {
    "collapsed": true
   },
   "outputs": [],
   "source": [
    "eda_all_participants.to_csv(output_path+\"/EDA_All_Data.csv\")"
   ]
  },
  {
   "cell_type": "code",
   "execution_count": null,
   "metadata": {},
   "outputs": [],
   "source": []
  },
  {
   "cell_type": "code",
   "execution_count": null,
   "metadata": {
    "collapsed": true
   },
   "outputs": [],
   "source": []
  }
 ],
 "metadata": {
  "kernelspec": {
   "display_name": "Python 3",
   "language": "python",
   "name": "python3"
  },
  "language_info": {
   "codemirror_mode": {
    "name": "ipython",
    "version": 3
   },
   "file_extension": ".py",
   "mimetype": "text/x-python",
   "name": "python",
   "nbconvert_exporter": "python",
   "pygments_lexer": "ipython3",
   "version": "3.6.1"
  }
 },
 "nbformat": 4,
 "nbformat_minor": 2
}
